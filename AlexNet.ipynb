{
 "cells": [
  {
   "cell_type": "markdown",
   "metadata": {},
   "source": [
    "Imports"
   ]
  },
  {
   "cell_type": "code",
   "execution_count": 4,
   "metadata": {},
   "outputs": [
    {
     "name": "stderr",
     "output_type": "stream",
     "text": [
      "/Users/saif/Desktop/test/venv/lib/python3.9/site-packages/tqdm/auto.py:21: TqdmWarning: IProgress not found. Please update jupyter and ipywidgets. See https://ipywidgets.readthedocs.io/en/stable/user_install.html\n",
      "  from .autonotebook import tqdm as notebook_tqdm\n"
     ]
    }
   ],
   "source": [
    "import torch\n",
    "import torch.nn as nn\n",
    "import torch.nn.functional as F\n",
    "import torch.optim as optim\n",
    "import torchvision.transforms as transforms\n",
    "import torchvision.datasets as datasets\n",
    "from torch.utils.data import DataLoader\n",
    "import torchvision.models as models"
   ]
  },
  {
   "cell_type": "markdown",
   "metadata": {},
   "source": [
    "Torch Version"
   ]
  },
  {
   "cell_type": "code",
   "execution_count": 5,
   "metadata": {},
   "outputs": [
    {
     "name": "stdout",
     "output_type": "stream",
     "text": [
      "2.2.2\n"
     ]
    }
   ],
   "source": [
    "print(torch.__version__)"
   ]
  },
  {
   "cell_type": "markdown",
   "metadata": {},
   "source": [
    "GPU Check"
   ]
  },
  {
   "cell_type": "code",
   "execution_count": 6,
   "metadata": {},
   "outputs": [
    {
     "name": "stdout",
     "output_type": "stream",
     "text": [
      "tensor([1.], device='mps:0')\n"
     ]
    }
   ],
   "source": [
    "if torch.backends.mps.is_available():\n",
    "    mps_device = torch.device(\"mps\")\n",
    "    x = torch.ones(1, device=mps_device)\n",
    "    print (x)\n",
    "else:\n",
    "    print (\"MPS device not found.\")"
   ]
  },
  {
   "cell_type": "code",
   "execution_count": 7,
   "metadata": {},
   "outputs": [],
   "source": [
    "torch.set_num_threads(1) # to minimize the cpu utilization"
   ]
  },
  {
   "cell_type": "markdown",
   "metadata": {},
   "source": [
    "AlexNet"
   ]
  },
  {
   "cell_type": "code",
   "execution_count": 10,
   "metadata": {},
   "outputs": [],
   "source": [
    "AlexNet = models.alexnet(pretrained=False)\n",
    "num_classes = 2 \n",
    "AlexNet.classifier[6] = torch.nn.Linear(AlexNet.classifier[6].in_features, num_classes)"
   ]
  },
  {
   "cell_type": "code",
   "execution_count": 11,
   "metadata": {},
   "outputs": [],
   "source": [
    "transform = transforms.Compose([\n",
    "    transforms.Resize((224, 224)),\n",
    "    transforms.ToTensor(),\n",
    "    transforms.Normalize((0.5, 0.5, 0.5), (0.5, 0.5, 0.5))\n",
    "])"
   ]
  },
  {
   "cell_type": "code",
   "execution_count": 12,
   "metadata": {},
   "outputs": [
    {
     "name": "stdout",
     "output_type": "stream",
     "text": [
      "Number of training images: 159957\n",
      "Number of testing images: 75992\n",
      "Number of validating images: 25998\n",
      "Classes in the dataset: ['fake', 'real']\n"
     ]
    }
   ],
   "source": [
    "train_set = datasets.ImageFolder(root='real-vs-fake/train', transform=transform)\n",
    "test_set = datasets.ImageFolder(root='real-vs-fake/test', transform=transform)\n",
    "val_set = datasets.ImageFolder(root='real-vs-fake/valid', transform=transform)\n",
    "\n",
    "\n",
    "train_loader = DataLoader(train_set, batch_size=32, shuffle=True)\n",
    "test_loader = DataLoader(test_set, batch_size=32, shuffle=False)\n",
    "val_loader = DataLoader(val_set, batch_size=32, shuffle=False)\n",
    "\n",
    "\n",
    "num_train_images = len(train_loader.dataset)\n",
    "num_test_images = len(test_loader.dataset)\n",
    "num_val_images = len(val_loader.dataset)\n",
    "\n",
    "\n",
    "print(\"Number of training images:\", num_train_images)\n",
    "print(\"Number of testing images:\", num_test_images)\n",
    "print(\"Number of validating images:\", num_val_images)\n",
    "\n",
    "\n",
    "train_classes = train_loader.dataset.classes\n",
    "print(\"Classes in the dataset:\", train_classes)"
   ]
  },
  {
   "cell_type": "code",
   "execution_count": 3,
   "metadata": {},
   "outputs": [
    {
     "name": "stdout",
     "output_type": "stream",
     "text": [
      "Epoch 1/10, Train Loss: 0.3932, Train Accuracy: 79.95%, Validation Loss: 0.3775, Validation Accuracy: 81.71%\n",
      "Epoch 2/10, Train Loss: 0.2966, Train Accuracy: 86.52%, Validation Loss: 0.2847, Validation Accuracy: 87.49%\n",
      "Epoch 3/10, Train Loss: 0.2355, Train Accuracy: 88.06%, Validation Loss: 0.2566, Validation Accuracy: 89.90%\n",
      "Epoch 4/10, Train Loss: 0.2287, Train Accuracy: 90.66%, Validation Loss: 0.2304, Validation Accuracy: 91.00%\n",
      "Epoch 5/10, Train Loss: 0.1986, Train Accuracy: 91.93%, Validation Loss: 0.2420, Validation Accuracy: 92.12%\n",
      "Epoch 6/10, Train Loss: 0.2091, Train Accuracy: 92.55%, Validation Loss: 0.2275, Validation Accuracy: 93.77%\n",
      "Epoch 7/10, Train Loss: 0.2081, Train Accuracy: 93.71%, Validation Loss: 0.2071, Validation Accuracy: 94.01%\n",
      "Epoch 8/10, Train Loss: 0.2017, Train Accuracy: 94.09%, Validation Loss: 0.1547, Validation Accuracy: 95.92%\n",
      "Epoch 9/10, Train Loss: 0.1435, Train Accuracy: 95.19%, Validation Loss: 0.1385, Validation Accuracy: 96.82%\n",
      "Epoch 10/10, Train Loss: 0.1657, Train Accuracy: 94.24%, Validation Loss: 0.1374, Validation Accuracy: 96.01%\n"
     ]
    }
   ],
   "source": [
    "model = AlexNet.to(mps_device)\n",
    "\n",
    "criterion = nn.CrossEntropyLoss()\n",
    "optimizer = optim.Adam(model.parameters(), lr=0.001)\n",
    "\n",
    "num_epochs = 10\n",
    "best_val_accuracy = 0.0\n",
    "\n",
    "num_epochs = 10\n",
    "best_val_accuracy = 0.0\n",
    "\n",
    "for epoch in range(num_epochs):\n",
    "    model.train() \n",
    "    train_loss = 0.0\n",
    "    train_correct = 0\n",
    "    total_train = 0\n",
    "    for images, labels in train_loader:\n",
    "        images, labels = images.to(\"mps\"), labels.to(\"mps\")\n",
    "\n",
    "        optimizer.zero_grad() \n",
    "        outputs = model(images)\n",
    "        if isinstance(outputs, models.GoogLeNetOutputs):\n",
    "            outputs = outputs.logits\n",
    "        loss = criterion(outputs, labels)\n",
    "        loss.backward()  \n",
    "        optimizer.step() \n",
    "        \n",
    "        train_loss += loss.item() * images.size(0) \n",
    "        _, predicted = torch.max(outputs, 1) \n",
    "        total_train += labels.size(0) \n",
    "        train_correct += (predicted == labels).sum().item() \n",
    "    \n",
    "    train_accuracy = 100.0 * train_correct / total_train\n",
    "    \n",
    "    model.eval() \n",
    "    val_loss = 0.0\n",
    "    val_correct = 0\n",
    "    total_val = 0\n",
    "    \n",
    "    with torch.no_grad(): \n",
    "        for images, labels in val_loader:\n",
    "            images, labels = images.to(\"mps\"), labels.to(\"mps\")\n",
    "            outputs = model(images)\n",
    "\n",
    "            if isinstance(outputs, models.GoogLeNetOutputs):\n",
    "                outputs = outputs.logits  \n",
    "\n",
    "            loss = criterion(outputs, labels) \n",
    "            \n",
    "            val_loss += loss.item() * images.size(0) \n",
    "            _, predicted = torch.max(outputs, 1) \n",
    "            total_val += labels.size(0) \n",
    "            val_correct += (predicted == labels).sum().item() \n",
    "    \n",
    "    val_accuracy = 100.0 * val_correct / total_val  \n",
    "\n",
    "    print(f\"Epoch {epoch + 1}/{num_epochs}, Train Loss: {train_loss / total_train:.4f}, Train Accuracy: {train_accuracy:.2f}%, Validation Loss: {val_loss / total_val:.4f}, Validation Accuracy: {val_accuracy:.2f}%\")\n",
    "\n",
    "    if val_accuracy > best_val_accuracy:\n",
    "        best_val_accuracy = val_accuracy\n",
    "        torch.save(model.state_dict(), \"best_cnn_model.pth\")"
   ]
  },
  {
   "cell_type": "code",
   "execution_count": 1,
   "metadata": {},
   "outputs": [
    {
     "name": "stdout",
     "output_type": "stream",
     "text": [
      "Accuracy on test set: 97.54%\n"
     ]
    }
   ],
   "source": [
    "model.eval()\n",
    "correct = 0\n",
    "total = 0\n",
    "with torch.no_grad():\n",
    "    for images, labels in test_loader:\n",
    "        images, labels = images.to(mps_device), labels.to(mps_device)\n",
    "        outputs = model(images)\n",
    "        _, predicted = torch.max(outputs, 1)\n",
    "        total += labels.size(0)\n",
    "        correct += (predicted == labels).sum().item()\n",
    "\n",
    "print(f\"Accuracy on test set: {(100 * correct / total):.2f}%\")"
   ]
  }
 ],
 "metadata": {
  "kernelspec": {
   "display_name": "venv",
   "language": "python",
   "name": "python3"
  },
  "language_info": {
   "codemirror_mode": {
    "name": "ipython",
    "version": 3
   },
   "file_extension": ".py",
   "mimetype": "text/x-python",
   "name": "python",
   "nbconvert_exporter": "python",
   "pygments_lexer": "ipython3",
   "version": "3.9.13"
  }
 },
 "nbformat": 4,
 "nbformat_minor": 2
}
